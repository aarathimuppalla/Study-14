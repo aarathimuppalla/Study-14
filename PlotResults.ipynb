{
 "cells": [
  {
   "cell_type": "code",
   "execution_count": null,
   "metadata": {},
   "outputs": [],
   "source": [
    "import openml\n",
    "import pandas as pd\n",
    "import holoviews as hv\n",
    "hv.extension('bokeh')"
   ]
  },
  {
   "cell_type": "code",
   "execution_count": null,
   "metadata": {},
   "outputs": [],
   "source": [
    "weka_flows = {\n",
    "    'SVM': 8666,\n",
    "    'LoginBoost(REPTree)': 8676,\n",
    "    'REPTree': 8693,\n",
    "    'Logistic': 8680,\n",
    "    'Random Forest': 8690,\n",
    "    'k-NN': 8682,\n",
    "#    'NaiveBayes': 8688,   \n",
    "}\n",
    "flowid_flowname = {flow_id: flow_name \n",
    "                   for flow_name, flow_id in weka_flows.items()}\n",
    "\n",
    "study = openml.study.get_study('OpenML-CC18', 'tasks')\n",
    "\n",
    "measures = ['predictive_accuracy']"
   ]
  },
  {
   "cell_type": "code",
   "execution_count": null,
   "metadata": {},
   "outputs": [],
   "source": [
    "evaluations = dict()\n",
    "for measure in measures:\n",
    "    evaluations[measure] = openml.evaluations.list_evaluations(measure, \n",
    "                                                               flow=weka_flows.values(), \n",
    "                                                               task=study.tasks)"
   ]
  },
  {
   "cell_type": "code",
   "execution_count": null,
   "metadata": {},
   "outputs": [],
   "source": [
    "columns = ['task_id', 'setup_id', 'flow_id', 'flow_name', 'measure', 'value']\n",
    "\n",
    "records = []\n",
    "for measure in measures:\n",
    "    for eid, evaluation in evaluations[measure].items():\n",
    "        record = {'task_id': evaluation.task_id,\n",
    "                  'setup_id': evaluation.setup_id,\n",
    "                  'flow_id': evaluation.flow_id, \n",
    "                  'flow_name': flowid_flowname[evaluation.flow_id],\n",
    "                  'measure': measure,\n",
    "                  'value': evaluation.value}\n",
    "        records.append(record)\n",
    "df = pd.DataFrame(data=records, columns=columns)\n",
    "df = pd.pivot_table(df, index=['task_id', 'setup_id', 'flow_id', 'flow_name'], columns='measure', values='value')\n",
    "df"
   ]
  },
  {
   "cell_type": "code",
   "execution_count": null,
   "metadata": {},
   "outputs": [],
   "source": [
    "title = \"Performance of Weka classifiers\"\n",
    "boxplot = hv.BoxWhisker(df, 'flow_name', 'predictive_accuracy',  label=title)\n",
    "boxplot.options(show_legend=False, width=800)\n",
    "\n",
    "boxplot"
   ]
  },
  {
   "cell_type": "code",
   "execution_count": null,
   "metadata": {},
   "outputs": [],
   "source": []
  }
 ],
 "metadata": {
  "kernelspec": {
   "display_name": "Python 3",
   "language": "python",
   "name": "python3"
  },
  "language_info": {
   "codemirror_mode": {
    "name": "ipython",
    "version": 3
   },
   "file_extension": ".py",
   "mimetype": "text/x-python",
   "name": "python",
   "nbconvert_exporter": "python",
   "pygments_lexer": "ipython3",
   "version": "3.6.5"
  }
 },
 "nbformat": 4,
 "nbformat_minor": 2
}
