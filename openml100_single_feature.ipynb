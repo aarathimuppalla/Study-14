{
 "cells": [
  {
   "cell_type": "code",
   "execution_count": 1,
   "metadata": {},
   "outputs": [],
   "source": [
    "import numpy as np\n",
    "import pandas as pd\n",
    "import sklearn.ensemble\n",
    "import sklearn.model_selection\n",
    "import sklearn.metrics\n",
    "import sklearn.pipeline\n",
    "import sklearn.preprocessing\n",
    "import openml"
   ]
  },
  {
   "cell_type": "code",
   "execution_count": 2,
   "metadata": {},
   "outputs": [],
   "source": [
    "datasets = openml.datasets.list_datasets(tag='OpenML-CC18')"
   ]
  },
  {
   "cell_type": "code",
   "execution_count": null,
   "metadata": {},
   "outputs": [],
   "source": [
    "max_score_per_dataset = {}\n",
    "for dataset_id in datasets:\n",
    "    dataset = openml.datasets.get_dataset(dataset_id)\n",
    "    X, y = dataset.get_data(target=dataset.default_target_attribute)\n",
    "    n_features = X.shape[1]\n",
    "    X_train, X_test, y_train, y_test = sklearn.model_selection.train_test_split(X, y)\n",
    "    scores = []\n",
    "    for feat_idx in range(n_features):\n",
    "        X_train_ = X_train[:, feat_idx].reshape((-1, 1))\n",
    "        X_test_ = X_test[:, feat_idx].reshape((-1, 1))\n",
    "        imp = sklearn.preprocessing.Imputer(strategy='median')\n",
    "        X_train_ = imp.fit_transform(X_train_)\n",
    "        X_test_ = imp.transform(X_test_)\n",
    "        if X_train_.shape[1] == 0:\n",
    "            continue\n",
    "        rf = sklearn.ensemble.RandomForestClassifier()\n",
    "        rf.fit(X_train_, y_train)\n",
    "        y_hat = rf.predict(X_test_)\n",
    "        current_score = sklearn.metrics.accuracy_score(y_test, y_hat)\n",
    "        scores.append(current_score)\n",
    "        if current_score == 1.00:\n",
    "            openml.utils._tag_entity('dataset', dataset_id, 'single_feature_predictable')\n",
    "    \n",
    "    max_score_per_dataset[dataset_id] = {\n",
    "        'score': np.max(scores), \n",
    "        'argmax': np.argmax(scores),\n",
    "        'name': dataset.name\n",
    "    }\n",
    "    \n",
    "results = pd.DataFrame(max_score_per_dataset).transpose()"
   ]
  },
  {
   "cell_type": "code",
   "execution_count": null,
   "metadata": {},
   "outputs": [],
   "source": [
    "results.sort_values(by='score')"
   ]
  },
  {
   "cell_type": "code",
   "execution_count": null,
   "metadata": {},
   "outputs": [],
   "source": []
  }
 ],
 "metadata": {
  "kernelspec": {
   "display_name": "Python 3",
   "language": "python",
   "name": "python3"
  },
  "language_info": {
   "codemirror_mode": {
    "name": "ipython",
    "version": 3
   },
   "file_extension": ".py",
   "mimetype": "text/x-python",
   "name": "python",
   "nbconvert_exporter": "python",
   "pygments_lexer": "ipython3",
   "version": "3.6.4"
  }
 },
 "nbformat": 4,
 "nbformat_minor": 2
}
